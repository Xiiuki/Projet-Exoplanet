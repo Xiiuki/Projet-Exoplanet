{
 "cells": [
  {
   "cell_type": "markdown",
   "id": "2bb4070b-2ecb-480b-860d-5db4001d87ed",
   "metadata": {},
   "source": [
    "# Analyse du csv brute exoplanets&stars.csv"
   ]
  },
  {
   "cell_type": "markdown",
   "id": "a0db8e3f-fe92-46e5-b890-1159b8542573",
   "metadata": {},
   "source": [
    "### Dans un premier temps nous allons afficher un échantillon de données :"
   ]
  },
  {
   "cell_type": "markdown",
   "id": "9641ef1e-5d14-42c0-962f-e731f04892b8",
   "metadata": {},
   "source": [
    "#### On utilise alors la bibliothèque de pandas et sa fonction read_csv et head()"
   ]
  },
  {
   "cell_type": "code",
   "execution_count": 2,
   "id": "ba2636fd-0ffc-43b7-b441-746d52d433f0",
   "metadata": {},
   "outputs": [
    {
     "data": {
      "text/html": [
       "<div>\n",
       "<style scoped>\n",
       "    .dataframe tbody tr th:only-of-type {\n",
       "        vertical-align: middle;\n",
       "    }\n",
       "\n",
       "    .dataframe tbody tr th {\n",
       "        vertical-align: top;\n",
       "    }\n",
       "\n",
       "    .dataframe thead th {\n",
       "        text-align: right;\n",
       "    }\n",
       "</style>\n",
       "<table border=\"1\" class=\"dataframe\">\n",
       "  <thead>\n",
       "    <tr style=\"text-align: right;\">\n",
       "      <th></th>\n",
       "      <th>pl_name</th>\n",
       "      <th>hostname</th>\n",
       "      <th>pl_letter</th>\n",
       "      <th>sy_snum</th>\n",
       "      <th>sy_pnum</th>\n",
       "      <th>sy_mnum</th>\n",
       "      <th>discoverymethod</th>\n",
       "      <th>disc_year</th>\n",
       "      <th>disc_pubdate</th>\n",
       "      <th>disc_locale</th>\n",
       "      <th>...</th>\n",
       "      <th>st_spectype</th>\n",
       "      <th>st_teff</th>\n",
       "      <th>st_rad</th>\n",
       "      <th>st_mass</th>\n",
       "      <th>st_lum</th>\n",
       "      <th>st_logg</th>\n",
       "      <th>st_age</th>\n",
       "      <th>st_dens</th>\n",
       "      <th>st_vsin</th>\n",
       "      <th>sy_gaiamag</th>\n",
       "    </tr>\n",
       "  </thead>\n",
       "  <tbody>\n",
       "    <tr>\n",
       "      <th>0</th>\n",
       "      <td>11 Com b</td>\n",
       "      <td>11 Com</td>\n",
       "      <td>b</td>\n",
       "      <td>2</td>\n",
       "      <td>1</td>\n",
       "      <td>0</td>\n",
       "      <td>Radial Velocity</td>\n",
       "      <td>2007</td>\n",
       "      <td>2008-01</td>\n",
       "      <td>Ground</td>\n",
       "      <td>...</td>\n",
       "      <td>G8 III</td>\n",
       "      <td>4742.0</td>\n",
       "      <td>19.00</td>\n",
       "      <td>2.70</td>\n",
       "      <td>2.243</td>\n",
       "      <td>2.31</td>\n",
       "      <td>NaN</td>\n",
       "      <td>NaN</td>\n",
       "      <td>1.2</td>\n",
       "      <td>4.44038</td>\n",
       "    </tr>\n",
       "    <tr>\n",
       "      <th>1</th>\n",
       "      <td>11 UMi b</td>\n",
       "      <td>11 UMi</td>\n",
       "      <td>b</td>\n",
       "      <td>1</td>\n",
       "      <td>1</td>\n",
       "      <td>0</td>\n",
       "      <td>Radial Velocity</td>\n",
       "      <td>2009</td>\n",
       "      <td>2009-10</td>\n",
       "      <td>Ground</td>\n",
       "      <td>...</td>\n",
       "      <td>K4 III</td>\n",
       "      <td>4213.0</td>\n",
       "      <td>29.79</td>\n",
       "      <td>2.78</td>\n",
       "      <td>2.430</td>\n",
       "      <td>1.93</td>\n",
       "      <td>1.56</td>\n",
       "      <td>NaN</td>\n",
       "      <td>1.5</td>\n",
       "      <td>4.56216</td>\n",
       "    </tr>\n",
       "    <tr>\n",
       "      <th>2</th>\n",
       "      <td>14 And b</td>\n",
       "      <td>14 And</td>\n",
       "      <td>b</td>\n",
       "      <td>1</td>\n",
       "      <td>1</td>\n",
       "      <td>0</td>\n",
       "      <td>Radial Velocity</td>\n",
       "      <td>2008</td>\n",
       "      <td>2008-12</td>\n",
       "      <td>Ground</td>\n",
       "      <td>...</td>\n",
       "      <td>K0 III</td>\n",
       "      <td>4813.0</td>\n",
       "      <td>11.00</td>\n",
       "      <td>2.20</td>\n",
       "      <td>1.763</td>\n",
       "      <td>2.63</td>\n",
       "      <td>4.50</td>\n",
       "      <td>NaN</td>\n",
       "      <td>2.6</td>\n",
       "      <td>4.91781</td>\n",
       "    </tr>\n",
       "    <tr>\n",
       "      <th>3</th>\n",
       "      <td>14 Her b</td>\n",
       "      <td>14 Her</td>\n",
       "      <td>b</td>\n",
       "      <td>1</td>\n",
       "      <td>1</td>\n",
       "      <td>0</td>\n",
       "      <td>Radial Velocity</td>\n",
       "      <td>2002</td>\n",
       "      <td>2003-01</td>\n",
       "      <td>Ground</td>\n",
       "      <td>...</td>\n",
       "      <td>K0 V</td>\n",
       "      <td>5338.0</td>\n",
       "      <td>0.93</td>\n",
       "      <td>0.90</td>\n",
       "      <td>-0.153</td>\n",
       "      <td>4.45</td>\n",
       "      <td>3.90</td>\n",
       "      <td>1.27393</td>\n",
       "      <td>1.0</td>\n",
       "      <td>6.38300</td>\n",
       "    </tr>\n",
       "    <tr>\n",
       "      <th>4</th>\n",
       "      <td>16 Cyg B b</td>\n",
       "      <td>16 Cyg B</td>\n",
       "      <td>b</td>\n",
       "      <td>3</td>\n",
       "      <td>1</td>\n",
       "      <td>0</td>\n",
       "      <td>Radial Velocity</td>\n",
       "      <td>1996</td>\n",
       "      <td>1997-07</td>\n",
       "      <td>Ground</td>\n",
       "      <td>...</td>\n",
       "      <td>G3 V</td>\n",
       "      <td>5750.0</td>\n",
       "      <td>1.13</td>\n",
       "      <td>1.08</td>\n",
       "      <td>0.097</td>\n",
       "      <td>4.36</td>\n",
       "      <td>7.40</td>\n",
       "      <td>1.01103</td>\n",
       "      <td>2.7</td>\n",
       "      <td>6.06428</td>\n",
       "    </tr>\n",
       "  </tbody>\n",
       "</table>\n",
       "<p>5 rows × 31 columns</p>\n",
       "</div>"
      ],
      "text/plain": [
       "      pl_name  hostname pl_letter  sy_snum  sy_pnum  sy_mnum  discoverymethod  \\\n",
       "0    11 Com b    11 Com         b        2        1        0  Radial Velocity   \n",
       "1    11 UMi b    11 UMi         b        1        1        0  Radial Velocity   \n",
       "2    14 And b    14 And         b        1        1        0  Radial Velocity   \n",
       "3    14 Her b    14 Her         b        1        1        0  Radial Velocity   \n",
       "4  16 Cyg B b  16 Cyg B         b        3        1        0  Radial Velocity   \n",
       "\n",
       "   disc_year disc_pubdate disc_locale  ... st_spectype st_teff  st_rad  \\\n",
       "0       2007      2008-01      Ground  ...      G8 III  4742.0   19.00   \n",
       "1       2009      2009-10      Ground  ...      K4 III  4213.0   29.79   \n",
       "2       2008      2008-12      Ground  ...      K0 III  4813.0   11.00   \n",
       "3       2002      2003-01      Ground  ...        K0 V  5338.0    0.93   \n",
       "4       1996      1997-07      Ground  ...        G3 V  5750.0    1.13   \n",
       "\n",
       "   st_mass  st_lum  st_logg  st_age  st_dens  st_vsin  sy_gaiamag  \n",
       "0     2.70   2.243     2.31     NaN      NaN      1.2     4.44038  \n",
       "1     2.78   2.430     1.93    1.56      NaN      1.5     4.56216  \n",
       "2     2.20   1.763     2.63    4.50      NaN      2.6     4.91781  \n",
       "3     0.90  -0.153     4.45    3.90  1.27393      1.0     6.38300  \n",
       "4     1.08   0.097     4.36    7.40  1.01103      2.7     6.06428  \n",
       "\n",
       "[5 rows x 31 columns]"
      ]
     },
     "execution_count": 2,
     "metadata": {},
     "output_type": "execute_result"
    }
   ],
   "source": [
    "# On importe la bibliothèque pandas\n",
    "\n",
    "import pandas as pd\n",
    "\n",
    "# On définie notre dataframe (df)\n",
    "\n",
    "df1 = pd.read_csv(\"C:\\Exoplanetss\\projet-chef-d-oeuvre\\Data\\Csv_brut/exoplanets-stars.csv\")\n",
    "\n",
    "# Puis on en sort un échantillon\n",
    "\n",
    "df1.head(5)"
   ]
  },
  {
   "cell_type": "markdown",
   "id": "d53e695f-85fa-456d-8e3c-1d018a37e387",
   "metadata": {},
   "source": [
    "## Nous allons un peu plus poussez dans l'analyse en récupérant le nom des colonnes, leur format et leurs valeurs :"
   ]
  },
  {
   "cell_type": "markdown",
   "id": "88d7c0f0-e698-4db2-af4c-948a63867ad0",
   "metadata": {},
   "source": [
    "#### On utilise pour cela la fonction info()"
   ]
  },
  {
   "cell_type": "code",
   "execution_count": 3,
   "id": "446ee9e3-d33e-4128-8bb1-fa89fa355afe",
   "metadata": {},
   "outputs": [
    {
     "name": "stdout",
     "output_type": "stream",
     "text": [
      "<class 'pandas.core.frame.DataFrame'>\n",
      "RangeIndex: 4383 entries, 0 to 4382\n",
      "Data columns (total 31 columns):\n",
      " #   Column           Non-Null Count  Dtype  \n",
      "---  ------           --------------  -----  \n",
      " 0   pl_name          4383 non-null   object \n",
      " 1   hostname         4383 non-null   object \n",
      " 2   pl_letter        4383 non-null   object \n",
      " 3   sy_snum          4383 non-null   int64  \n",
      " 4   sy_pnum          4383 non-null   int64  \n",
      " 5   sy_mnum          4383 non-null   int64  \n",
      " 6   discoverymethod  4383 non-null   object \n",
      " 7   disc_year        4383 non-null   int64  \n",
      " 8   disc_pubdate     4383 non-null   object \n",
      " 9   disc_locale      4383 non-null   object \n",
      " 10  disc_facility    4383 non-null   object \n",
      " 11  disc_telescope   4383 non-null   object \n",
      " 12  pl_orbper        4241 non-null   float64\n",
      " 13  pl_rade          4369 non-null   float64\n",
      " 14  pl_bmasse        4361 non-null   float64\n",
      " 15  pl_dens          4279 non-null   float64\n",
      " 16  pl_orbeccen      3901 non-null   float64\n",
      " 17  pl_insol         2796 non-null   float64\n",
      " 18  pl_eqt           3271 non-null   float64\n",
      " 19  pl_orbincl       3340 non-null   float64\n",
      " 20  pl_ratdor        3261 non-null   float64\n",
      " 21  st_spectype      1570 non-null   object \n",
      " 22  st_teff          4267 non-null   float64\n",
      " 23  st_rad           4249 non-null   float64\n",
      " 24  st_mass          4379 non-null   float64\n",
      " 25  st_lum           4253 non-null   float64\n",
      " 26  st_logg          4242 non-null   float64\n",
      " 27  st_age           3650 non-null   float64\n",
      " 28  st_dens          4033 non-null   float64\n",
      " 29  st_vsin          1589 non-null   float64\n",
      " 30  sy_gaiamag       4228 non-null   float64\n",
      "dtypes: float64(18), int64(4), object(9)\n",
      "memory usage: 1.0+ MB\n"
     ]
    }
   ],
   "source": [
    "# On utilise la fonction info()\n",
    "\n",
    "df1.info()"
   ]
  },
  {
   "cell_type": "markdown",
   "id": "baa9900c-68a1-43b3-81e1-6f03b34cdcc1",
   "metadata": {},
   "source": [
    "#### Nous pouvons donc voir, que nous avons 4383 entrées et un total de 28 colonnes, puis 3 formats différents : object, int et float; cependant nous pouvons aussi aperçevoir que dans le champs \"non-null count\", le comptage n'est pas tout le temps de 4383 ! \n",
    "#### Nous allons donc faire un aperçus graphique des données manquante, puis un comptage de celles-ci."
   ]
  },
  {
   "cell_type": "code",
   "execution_count": 4,
   "id": "f2208dcf-d447-4047-b4c0-1ed247bddc78",
   "metadata": {},
   "outputs": [
    {
     "data": {
      "text/plain": [
       "<AxesSubplot:>"
      ]
     },
     "execution_count": 4,
     "metadata": {},
     "output_type": "execute_result"
    },
    {
     "data": {
      "image/png": "[encoded data removed]",
      "text/plain": [
       "<Figure size 432x288 with 1 Axes>"
      ]
     },
     "metadata": {
      "needs_background": "light"
     },
     "output_type": "display_data"
    }
   ],
   "source": [
    "# On importe la bibliothèque seaborn\n",
    "\n",
    "import seaborn as sns \n",
    "\n",
    "# On utilise la fonction heatmap pour l'aperçus graphique \n",
    "\n",
    "sns.heatmap(df1.isnull(), yticklabels=False, cbar=False, cmap=\"viridis\")"
   ]
  },
  {
   "cell_type": "code",
   "execution_count": 5,
   "id": "e085133c-3620-4b48-a899-ca34d488a4e3",
   "metadata": {},
   "outputs": [
    {
     "data": {
      "text/plain": [
       "pl_name               0\n",
       "hostname              0\n",
       "pl_letter             0\n",
       "sy_snum               0\n",
       "sy_pnum               0\n",
       "sy_mnum               0\n",
       "discoverymethod       0\n",
       "disc_year             0\n",
       "disc_pubdate          0\n",
       "disc_locale           0\n",
       "disc_facility         0\n",
       "disc_telescope        0\n",
       "pl_orbper           142\n",
       "pl_rade              14\n",
       "pl_bmasse            22\n",
       "pl_dens             104\n",
       "pl_orbeccen         482\n",
       "pl_insol           1587\n",
       "pl_eqt             1112\n",
       "pl_orbincl         1043\n",
       "pl_ratdor          1122\n",
       "st_spectype        2813\n",
       "st_teff             116\n",
       "st_rad              134\n",
       "st_mass               4\n",
       "st_lum              130\n",
       "st_logg             141\n",
       "st_age              733\n",
       "st_dens             350\n",
       "st_vsin            2794\n",
       "sy_gaiamag          155\n",
       "dtype: int64"
      ]
     },
     "execution_count": 5,
     "metadata": {},
     "output_type": "execute_result"
    }
   ],
   "source": [
    "# On utilise les fonction isnull() et sum()\n",
    "\n",
    "df1.isnull().sum()"
   ]
  },
  {
   "cell_type": "markdown",
   "id": "043c5bbe-f337-4462-a01e-c88551c81251",
   "metadata": {},
   "source": [
    "#### Nous pouvons voir qu'il y a, quand même, un nombre de données manquantes qui est à prendre en compte. Par exemple, plus de la moitié, 2813 pour la colonne \"st_spectype\" et 2794 pour la colonne \"st_vsin\"."
   ]
  },
  {
   "cell_type": "markdown",
   "id": "9d6bf114-0459-4af0-80bd-b47ee9237ff4",
   "metadata": {},
   "source": [
    "## Conclusion : "
   ]
  },
  {
   "cell_type": "markdown",
   "id": "86a0facf-6ce8-4f93-a02a-cad276b45496",
   "metadata": {},
   "source": [
    "#### Nous possédons un csv de très bonnes qualités au vu de la complexité des données propose, mais un entretien avec le client doit avoir lieu pour savoir, si oui ou non, les données manquantes peuvent l'intéresser."
   ]
  },
  {
   "cell_type": "markdown",
   "id": "cf3f34ca-8ba9-4494-86a5-4e587cfab888",
   "metadata": {},
   "source": [
    "#### Update : nous décidons donc, avec le client que ces données manquantes peuvent avoir leurs importances pour montrer aux élèves, qu'il y a un long chemin à faire pour les scientifiques chevronnés pour récupérer efficacement toutes les mesures qu'ils souhaitent."
   ]
  },
  {
   "cell_type": "markdown",
   "id": "c071a18b-090c-4939-8004-4c07432e4307",
   "metadata": {},
   "source": [
    "#### Nous pouvons donc passer au nettoyage du csv et de ses données, enfin de créer les csv/table adéquat pour la base de données."
   ]
  },
  {
   "cell_type": "code",
   "execution_count": null,
   "id": "ed901e89-71db-4586-b47e-2edb5c238824",
   "metadata": {},
   "outputs": [],
   "source": []
  }
 ],
 "metadata": {
  "kernelspec": {
   "display_name": "Python 3",
   "language": "python",
   "name": "python3"
  },
  "language_info": {
   "codemirror_mode": {
    "name": "ipython",
    "version": 3
   },
   "file_extension": ".py",
   "mimetype": "text/x-python",
   "name": "python",
   "nbconvert_exporter": "python",
   "pygments_lexer": "ipython3",
   "version": "3.8.6"
  }
 },
 "nbformat": 4,
 "nbformat_minor": 5
}
